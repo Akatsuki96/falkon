{
 "cells": [
  {
   "cell_type": "code",
   "execution_count": 1,
   "metadata": {},
   "outputs": [],
   "source": [
    "import numpy as np\n",
    "import datasets"
   ]
  },
  {
   "cell_type": "code",
   "execution_count": 2,
   "metadata": {},
   "outputs": [],
   "source": [
    "higgs = datasets.HiggsDataset()"
   ]
  },
  {
   "cell_type": "code",
   "execution_count": 4,
   "metadata": {},
   "outputs": [],
   "source": [
    "X, Y = higgs.read_data(dtype=np.float64)"
   ]
  },
  {
   "cell_type": "code",
   "execution_count": 32,
   "metadata": {},
   "outputs": [],
   "source": [
    "np.random.seed(13)\n",
    "X_sm_tr = []\n",
    "Y_sm_tr = []\n",
    "X_sm_ts = []\n",
    "Y_sm_ts = []\n",
    "i = 0\n",
    "cls = 0\n",
    "while len(X_sm_tr) < 10_000:\n",
    "    if Y[i] == cls:\n",
    "        X_sm_tr.append(X[i])\n",
    "        Y_sm_tr.append(Y[i])\n",
    "        cls = 1 - cls\n",
    "    i += 1\n",
    "while len(X_sm_ts) < 20_000:\n",
    "    if Y[i] == cls:\n",
    "        X_sm_ts.append(X[i])\n",
    "        Y_sm_ts.append(Y[i])\n",
    "        cls = 1 - cls\n",
    "    i += 1\n",
    "X_sm_tr = np.stack(X_sm_tr, 0)\n",
    "Y_sm_tr = np.stack(Y_sm_tr, 0).astype(np.int32)\n",
    "X_sm_ts = np.stack(X_sm_ts, 0)\n",
    "Y_sm_ts = np.stack(Y_sm_ts, 0).astype(np.int32)\n",
    "centers = X_sm_tr[:1000]"
   ]
  },
  {
   "cell_type": "code",
   "execution_count": 35,
   "metadata": {},
   "outputs": [],
   "source": [
    "import h5py\n",
    "f = h5py.File('higgs_for_ho.hdf5', 'w')\n",
    "dset = f.create_dataset(\"X_train\", data=X_sm_tr)\n",
    "dset = f.create_dataset(\"Y_train\", data=Y_sm_tr)\n",
    "dset = f.create_dataset(\"X_test\", data=X_sm_ts)\n",
    "dset = f.create_dataset(\"Y_test\", data=Y_sm_ts)\n",
    "dset = f.create_dataset(\"centers\", data=centers)\n",
    "f.close()"
   ]
  },
  {
   "cell_type": "code",
   "execution_count": 39,
   "metadata": {},
   "outputs": [],
   "source": [
    "import numpy as np\n",
    "import h5py\n",
    "with h5py.File('higgs_for_ho.hdf5', 'r') as f:\n",
    "    X_train = np.array(f['X_train'])\n",
    "    Y_train = np.array(f['Y_train'])\n",
    "    X_test = np.array(f['X_test'])\n",
    "    Y_test = np.array(f['Y_test'])\n",
    "    centers = np.array(f['centers'])"
   ]
  }
 ],
 "metadata": {
  "kernelspec": {
   "display_name": "Python 3 (ipykernel)",
   "language": "python",
   "name": "python3"
  },
  "language_info": {
   "codemirror_mode": {
    "name": "ipython",
    "version": 3
   },
   "file_extension": ".py",
   "mimetype": "text/x-python",
   "name": "python",
   "nbconvert_exporter": "python",
   "pygments_lexer": "ipython3",
   "version": "3.8.11"
  },
  "toc": {
   "base_numbering": 1,
   "nav_menu": {},
   "number_sections": true,
   "sideBar": true,
   "skip_h1_title": false,
   "title_cell": "Table of Contents",
   "title_sidebar": "Contents",
   "toc_cell": false,
   "toc_position": {},
   "toc_section_display": true,
   "toc_window_display": false
  }
 },
 "nbformat": 4,
 "nbformat_minor": 4
}
